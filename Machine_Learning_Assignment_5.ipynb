{
 "cells": [
  {
   "cell_type": "markdown",
   "id": "c09348dc-aeb1-4ebe-a800-f0c684c82d27",
   "metadata": {},
   "source": [
    "## Q1. What is data encoding? How is it useful in data science?"
   ]
  },
  {
   "cell_type": "markdown",
   "id": "5c4b9905-208e-464e-a6e4-689dba5d52e3",
   "metadata": {},
   "source": [
    "Data encoding ek process hai jisme data ko ek format se doosre format mein convert kiya jata hai, taaki usse efficiently store, process, ya transmit kiya ja sake.  \n",
    "Machine learning models mein categorical data ko numerical format mein badalne ke liye encoding zaroori hoti hai, jaise Label Encoding ya One-Hot Encoding.  \n",
    "Data compression ke liye bhi encoding useful hai, jisse storage aur computation ki efficiency badhti hai.  \n",
    "Data transmission ke dauran data ko encode karke error detection aur correction aasaan hota hai.  \n",
    "Encoding se models faster aur accurate predictions kar paate hain.  "
   ]
  },
  {
   "cell_type": "markdown",
   "id": "376db076-042c-4226-86d4-5da50b53a46c",
   "metadata": {},
   "source": [
    "## Q2. What is nominal encoding? Provide an example of how you would use it in a real-world scenario."
   ]
  },
  {
   "cell_type": "markdown",
   "id": "eeaedfb9-4ebf-491d-9d7d-46d6a1e22bbb",
   "metadata": {},
   "source": [
    "Nominal encoding ek technique hoti hai jismein categorical data (jo numerical nahi hota) ko numbers mein convert kiya jata hai. Iska use machine learning models ko data samajhne mein madad karta hai, kyunki models numbers ke saath better perform karte hain.  \n",
    "\n",
    "Example: Agar hamre paas \"City\" ke naam hain jaise Mumbai, Delhi, Chennai, to unhe nominal encoding se 1, 2, 3 jaisi values assign karoge. Real-world mein, agar humko ek model banana hai jo customer preferences predict kare, to cities ko aise encode kar sakte ho.  "
   ]
  },
  {
   "cell_type": "markdown",
   "id": "9fb6a888-f091-4752-bbdf-6f5d1d296fb8",
   "metadata": {},
   "source": [
    "## Q3. In what situations is nominal encoding preferred over one-hot encoding? Provide a practical example."
   ]
  },
  {
   "cell_type": "markdown",
   "id": "8ff33652-8350-4c98-b80b-8a7acddcc2af",
   "metadata": {},
   "source": [
    "Nominal encoding tab prefer kiya jata hai jab categories ke beech mein koi specific order ya priority nahi hoti, aur jab categories bohot zyada hoti hain, kyunki one-hot encoding se bohot zyada columns ban jaate hain. Nominal encoding se space bhi bachta hai.  \n",
    "\n",
    "Example: Agar hamre paas 1000 se zyada unique product types hain, to one-hot encoding se 1000 columns banenge, jo inefficient hoga. Isliye nominal encoding se unhe ek unique number assign karna better hota hai."
   ]
  },
  {
   "cell_type": "markdown",
   "id": "1e3fd0ea-139d-4e9e-9ae7-2cd727d1525d",
   "metadata": {},
   "source": [
    "## Q4. Suppose you have a dataset containing categorical data with 5 unique values. Which encodingtechnique would you use to transform this data into a format suitable for machine learning algorithms? Explain why you made this choice."
   ]
  },
  {
   "cell_type": "markdown",
   "id": "8c52259c-6967-4005-b47b-df26f8511621",
   "metadata": {},
   "source": [
    "Agar tumhare dataset mein 5 unique categorical values hain, to main one-hot encoding use karunga. Kyunki yeh categories kam hain, aur one-hot encoding se har category ka apna separate binary column ban jata hai, jo model ke liye clearer hota hai. Isse model ko confusion nahi hoti, aur better accuracy milti hai jab categories ke beech koi specific order nahi hota.  "
   ]
  },
  {
   "cell_type": "markdown",
   "id": "9d5b8cc7-9b5e-4c80-9650-8b6da80eab93",
   "metadata": {},
   "source": [
    "## Q5. In a machine learning project, you have a dataset with 1000 rows and 5 columns. Two of the columns are categorical, and the remaining three columns are numerical. If you were to use nominal encoding to transform the categorical data, how many new columns would be created? Show your calculations."
   ]
  },
  {
   "cell_type": "markdown",
   "id": "60e9ce1c-30d4-49e4-a902-f67805065c82",
   "metadata": {},
   "source": [
    "Agar hum nominal encoding use karte ho, to categorical columns ko sirf ek unique number assign hota hai, chahe kitne bhi unique values ho. Isliye, agar 2 categorical columns hain, nominal encoding se koi extra columns nahi banenge.  \n",
    "\n",
    "So, tumhare dataset mein total columns wahi 5 rahenge: 3 numerical + 2 encoded categorical = 5 columns.  "
   ]
  },
  {
   "cell_type": "markdown",
   "id": "c78fa551-7c22-4563-b0c8-f09c924dda66",
   "metadata": {},
   "source": [
    "## Q6. You are working with a dataset containing information about different types of animals, including their species, habitat, and diet. Which encoding technique would you use to transform the categorical data into a format suitable for machine learning algorithms? Justify your answer."
   ]
  },
  {
   "cell_type": "markdown",
   "id": "d1d68f8b-589e-4163-95ef-18b87fbfd5b6",
   "metadata": {},
   "source": [
    "Agar hamare dataset mein species, habitat, aur diet jaise categorical features hain, to main one-hot encoding use karunga. Kyunki yeh categories mutually exclusive hain (e.g., ek animal ek species ka hoga ya ek specific habitat mein rahega), one-hot encoding se har category ko ek binary column assign hoga, jo models ko samajhne mein aasaan hoga.  \n",
    "\n",
    "Iska fayda yeh hai ki model kisi bhi specific category ko bias ke bina treat karega, aur koi numerical order ka confusion nahi hoga.  "
   ]
  },
  {
   "cell_type": "markdown",
   "id": "35bcfb38-d385-41ef-ae9d-1a267e49abe3",
   "metadata": {},
   "source": [
    "## Q7.You are working on a project that involves predicting customer churn for a telecommunications company. You have a dataset with 5 features, including the customer's gender, age, contract type,monthly charges, and tenure. Which encoding technique(s) would you use to transform the categorical"
   ]
  },
  {
   "cell_type": "markdown",
   "id": "3b55edaf-9992-4239-a305-db2b795a410f",
   "metadata": {},
   "source": [
    "Is project mein, hamare dataset mein do categorical features hain: gender aur contract type. Main inke liye different encoding techniques use karunga:  \n",
    "Gender: Kyunki gender ke sirf 2 unique values hain (e.g., Male, Female), main Label Encoding use karunga. Iska reason hai ki binary categories ke liye nominal encoding simple aur effective hoti hai.  \n",
    "Contract Type: Kyunki contract type ke zyada unique values ho sakti hain (e.g., monthly, yearly, prepaid), One-Hot Encoding zyada suitable hoga. Har contract type ke liye separate columns banenge, jo model ke liye clear interpretation denge without implying any order.  \n",
    "Baaki features (age, monthly charges, tenure) waise hi numerical ke bs astype(int) ka use karenge.  "
   ]
  }
 ],
 "metadata": {
  "kernelspec": {
   "display_name": "Python 3 (ipykernel)",
   "language": "python",
   "name": "python3"
  },
  "language_info": {
   "codemirror_mode": {
    "name": "ipython",
    "version": 3
   },
   "file_extension": ".py",
   "mimetype": "text/x-python",
   "name": "python",
   "nbconvert_exporter": "python",
   "pygments_lexer": "ipython3",
   "version": "3.11.7"
  }
 },
 "nbformat": 4,
 "nbformat_minor": 5
}
