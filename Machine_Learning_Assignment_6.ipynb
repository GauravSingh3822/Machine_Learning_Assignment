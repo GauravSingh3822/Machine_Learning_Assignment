{
 "cells": [
  {
   "cell_type": "markdown",
   "id": "bade8e46-4527-485e-b2c8-2f97b24a9f95",
   "metadata": {},
   "source": [
    "## Q1. What is the difference between Ordinal Encoding and Label Encoding? Provide an example of when you might choose one over the other.\n"
   ]
  },
  {
   "cell_type": "markdown",
   "id": "c174d2f8-242b-4925-897e-f37d76214ca9",
   "metadata": {},
   "source": [
    "Label Encoding: Yeh har unique category ko ek unique number assign karta hai, lekin un numbers ka koi order nahi hota. Example: ['Apple', 'Banana', 'Cherry'] -> [0, 1, 2].  \n",
    "\n",
    "Ordinal Encoding: Yeh encoding tab use hoti hai jab categories ke beech ek natural order hota hai. Example: ['Low', 'Medium', 'High'] -> [0, 1, 2].  \n",
    "\n",
    "Agar categories ka natural order ho (jaise rating: low, medium, high), toh Ordinal Encoding use karte hain. Agar koi order nahi ho (jaise fruits: apple, banana, cherry), toh Label Encoding best rahega.  "
   ]
  },
  {
   "cell_type": "markdown",
   "id": "cb688671-4db3-4e4d-a0e1-4d3e88029b1d",
   "metadata": {},
   "source": [
    "## Q2. Explain how Target Guided Ordinal Encoding works and provide an example of when you might use it in a machine learning project.\n"
   ]
  },
  {
   "cell_type": "markdown",
   "id": "43892e28-9250-414d-ab13-d5d6ea58ebda",
   "metadata": {},
   "source": [
    "Target Guided Ordinal Encoding tab use hoti hai jab hum categories ko target variable ke hisaab se rank karte hain. Yeh har category ka target variable ka mean calculate karta hai, aur phir unhe uske basis pe rank de deta hai.\n",
    "\n",
    "Example: Suppose hamare paas \"City\" categories hain aur target variable house price hai. Pehle hum har city ka average house price calculate karenge, fir un cities ko price ke basis pe encode karoge. Higher price wali city ko higher number milega.\n",
    "\n",
    "Is encoding ko tab use karte hain jab categories aur target variable ke beech koi relationship ho, jaise jab city affect kar rahi ho house prices ko."
   ]
  },
  {
   "cell_type": "markdown",
   "id": "daaf5a10-fd26-4746-9ed0-7a84b09cf79c",
   "metadata": {},
   "source": [
    "## Q3. Define covariance and explain why it is important in statistical analysis. How is covariance calculated?\n"
   ]
  },
  {
   "cell_type": "markdown",
   "id": "3bc71d48-7512-4dbe-b7bc-ab8fa55f23ab",
   "metadata": {},
   "source": [
    "\n",
    "Covariance do variables ke beech relation ko measure karta hai. Agar covariance positive hai, toh dono variables ek dusre ke saath increase ya decrease karte hain, aur negative covariance ka matlab ek increase hota hai aur dusra decrease karta hai.\n",
    "\n",
    "Covariance calculate karne ke liye pehle har variable ka mean nikalte hain, phir har value ka mean se difference multiply karte hain, dono variables ke liye, aur uska average lete hain.\n",
    "\n",
    "Yeh important hoti hai kyunki yeh batata hai ki variables ek dusre se kaise related hain, jo statistical analysis aur machine learning me useful hota hai."
   ]
  },
  {
   "cell_type": "markdown",
   "id": "2097088b-735c-4861-8088-aa7c49e1fc4d",
   "metadata": {},
   "source": [
    "## Q4. For a dataset with the following categorical variables: Color (red, green, blue), Size (small, medium, large), and Material (wood, metal, plastic), perform label encoding using Python's scikit-learn library. Show your code and explain the output.\n"
   ]
  },
  {
   "cell_type": "code",
   "execution_count": 1,
   "id": "f22fec53-17bf-4df7-9fb8-a7f34b3b6d73",
   "metadata": {},
   "outputs": [
    {
     "name": "stdout",
     "output_type": "stream",
     "text": [
      "   Color    Size Material  Color_encoded  Size_encoded  Material_encoded\n",
      "0    red   small     wood              2             2                 2\n",
      "1  green  medium    metal              1             1                 0\n",
      "2   blue   large  plastic              0             0                 1\n"
     ]
    }
   ],
   "source": [
    "from sklearn.preprocessing import LabelEncoder\n",
    "import pandas as pd\n",
    "\n",
    "# Dataset\n",
    "data = {'Color': ['red', 'green', 'blue'],\n",
    "        'Size': ['small', 'medium', 'large'],\n",
    "        'Material': ['wood', 'metal', 'plastic']}\n",
    "\n",
    "df = pd.DataFrame(data)\n",
    "\n",
    "# Initialize Label Encoder\n",
    "label = LabelEncoder()\n",
    "\n",
    "# Apply Label Encoding to each column\n",
    "df['Color_encoded'] = label.fit_transform(df['Color'])\n",
    "df['Size_encoded'] = label.fit_transform(df['Size'])\n",
    "df['Material_encoded'] = label.fit_transform(df['Material'])\n",
    "\n",
    "print(df)"
   ]
  },
  {
   "cell_type": "markdown",
   "id": "59b7dde1-0542-4612-8834-16502b4f5055",
   "metadata": {},
   "source": [
    "## Q5. Calculate the covariance matrix for the following variables in a dataset: Age, Income, and Education level. Interpret the results.\n"
   ]
  },
  {
   "cell_type": "code",
   "execution_count": 2,
   "id": "d705cd4a-1d27-46ae-a69b-2569f7edf09e",
   "metadata": {},
   "outputs": [
    {
     "name": "stdout",
     "output_type": "stream",
     "text": [
      "                      Age       Income  Education_Level\n",
      "Age                 221.3     251000.0             38.8\n",
      "Income           251000.0  295000000.0          43500.0\n",
      "Education_Level      38.8      43500.0              8.8\n"
     ]
    }
   ],
   "source": [
    "import numpy as np\n",
    "import pandas as pd\n",
    "\n",
    "# Dataset\n",
    "data = {'Age': [25, 32, 47, 51, 62],\n",
    "        'Income': [50000, 60000, 80000, 85000, 90000],\n",
    "        'Education_Level': [12, 16, 18, 16, 20]}\n",
    "\n",
    "df = pd.DataFrame(data)\n",
    "\n",
    "# Covariance matrix calculation\n",
    "cov_matrix = df.cov()\n",
    "print(cov_matrix)"
   ]
  },
  {
   "cell_type": "markdown",
   "id": "0543641d-9e1f-4bf3-88e5-ab4d38b76390",
   "metadata": {},
   "source": [
    "## Q6. You are working on a machine learning project with a dataset containing several categorical variables, including \"Gender\" (Male/Female), \"Education Level\" (High School/Bachelor's/Master's/PhD), and \"Employment Status\" (Unemployed/Part-Time/Full-Time). Which encoding method would you use for each variable, and why?\n"
   ]
  },
  {
   "cell_type": "markdown",
   "id": "ff23693d-b856-422e-970f-0e739e4ec207",
   "metadata": {},
   "source": [
    "Gender (Male/Female):  \n",
    "Label Encoding. Since gender has only 2 categories, Label Encoding is simple and efficient, mapping Male to 0 and Female to 1 (or vice versa). No need for complex encoding.  \n",
    "\n",
    "Education Level (High School/Bachelor's/Master's/PhD):  \n",
    "Ordinal Encoding. Kyunki Education levels ka ek natural order hota hai (High School < Bachelor's < Master's < PhD), Ordinal Encoding best rahega. Isse categories ko order ke hisaab se rank de sakte hain.  \n",
    "\n",
    "Employment Status (Unemployed/Part-Time/Full-Time):  \n",
    "One-Hot Encoding. Kyunki Employment Status ka koi natural order nahi hota, One-Hot Encoding best hoti hai. Har category ko ek separate binary column milega, like [1, 0, 0] for Unemployed.  "
   ]
  },
  {
   "cell_type": "markdown",
   "id": "5740f85c-699c-4a66-8fd6-4102e9f39ed4",
   "metadata": {},
   "source": [
    "## Q7. You are analyzing a dataset with two continuous variables, \"Temperature\" and \"Humidity\", and two categorical variables, \"Weather Condition\" (Sunny/Cloudy/Rainy) and \"Wind Direction\" (North/South/ East/West). Calculate the covariance between each pair of variables and interpret the results."
   ]
  },
  {
   "cell_type": "code",
   "execution_count": 8,
   "id": "c276a485-f759-449a-9e83-0cab3c0ad04c",
   "metadata": {},
   "outputs": [
    {
     "name": "stdout",
     "output_type": "stream",
     "text": [
      "                 Temperature  Humidity  Weather_Encoded  Wind_Encoded\n",
      "Temperature            62.50     -6.25            -2.50          1.25\n",
      "Humidity               -6.25     62.50             6.25          2.50\n",
      "Weather_Encoded        -2.50      6.25             1.00          0.25\n",
      "Wind_Encoded            1.25      2.50             0.25          1.30\n"
     ]
    }
   ],
   "source": [
    "import pandas as pd\n",
    "import numpy as np\n",
    "from sklearn.preprocessing import LabelEncoder\n",
    "\n",
    "# Dataset\n",
    "data = {'Temperature': [30, 35, 40, 45, 50],\n",
    "        'Humidity': [70, 65, 75, 80, 60],\n",
    "        'Weather Condition': ['Sunny', 'Cloudy', 'Rainy', 'Sunny', 'Cloudy'],\n",
    "        'Wind Direction': ['North', 'South', 'East', 'West', 'North']}\n",
    "\n",
    "df = pd.DataFrame(data)\n",
    "\n",
    "# Label encoding for categorical variables\n",
    "label = LabelEncoder()\n",
    "df['Weather_Encoded'] = label.fit_transform(df['Weather Condition'])\n",
    "df['Wind_Encoded'] = label.fit_transform(df['Wind Direction'])\n",
    "df=df.drop('Weather Condition',axis=1)\n",
    "df=df.drop('Wind Direction',axis=1)\n",
    "\n",
    "# Covariance matrix\n",
    "cov_matrix = df.cov()\n",
    "print(cov_matrix)\n"
   ]
  }
 ],
 "metadata": {
  "kernelspec": {
   "display_name": "Python 3 (ipykernel)",
   "language": "python",
   "name": "python3"
  },
  "language_info": {
   "codemirror_mode": {
    "name": "ipython",
    "version": 3
   },
   "file_extension": ".py",
   "mimetype": "text/x-python",
   "name": "python",
   "nbconvert_exporter": "python",
   "pygments_lexer": "ipython3",
   "version": "3.11.7"
  }
 },
 "nbformat": 4,
 "nbformat_minor": 5
}
