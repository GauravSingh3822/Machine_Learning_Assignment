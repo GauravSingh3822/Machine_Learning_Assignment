{
 "cells": [
  {
   "cell_type": "markdown",
   "id": "8779bf1d-0712-40a5-bbc2-280cac8cc033",
   "metadata": {},
   "source": [
    "## Q1. What is the Filter method in feature selection, and how does it work?\n"
   ]
  },
  {
   "cell_type": "markdown",
   "id": "5e4564bb-ab85-45c0-b2d4-5b87fc0db06d",
   "metadata": {},
   "source": [
    "Filter Method in Feature Selection is process to select the relavent feature from dataset before apply the machine learning algorithms..Techniques like correlation, chi-square, and information gain are used to score and rank features. The top-ranked features are selected, reducing dimensionality and improving model performance. This method is computationally efficient but may miss feature interactions.  "
   ]
  },
  {
   "cell_type": "markdown",
   "id": "d9f93e4a-7054-49d0-b687-78c616e69bac",
   "metadata": {},
   "source": [
    "## Q2. How does the Wrapper method differ from the Filter method in feature selection?\n"
   ]
  },
  {
   "cell_type": "markdown",
   "id": "86aadd36-8d1e-4033-98d9-0689cc40fe29",
   "metadata": {},
   "source": [
    "\n",
    "Wrapper method mein features ko alag-alag combinations mein model ke sath test kiya jata hai taaki best features choose kiye jaa sakein, jabki Filter method features ko sirf unke statistical relation ke basis par select karta hai, bina model ko use kiye. Wrapper method zyada accurate hota hai, lekin slow hota hai."
   ]
  },
  {
   "cell_type": "markdown",
   "id": "ced714e2-bd37-493f-aaea-35b5be1211a0",
   "metadata": {},
   "source": [
    "## Q3. What are some common techniques used in Embedded feature selection methods?\n"
   ]
  },
  {
   "cell_type": "markdown",
   "id": "1353564e-ec1e-4cf7-a6c6-f485dd85aa14",
   "metadata": {},
   "source": [
    "Lasso Regression (L1 Regularization): Penalizes large coefficients, forcing some feature coefficients to become zero, effectively removing them.  \n",
    "Ridge Regression (L2 Regularization): Shrinks coefficients but doesn’t eliminate them, reducing the influence of less important features.  \n",
    "Decision Trees and Random Forests: These algorithms rank features based on their importance during tree construction.  \n",
    "Elastic Net: Combines L1 and L2 regularization for balanced feature selection.  \n",
    "Gradient Boosting Machines (GBM): Uses feature importance scores based on the impact of each feature on model predictions.  "
   ]
  },
  {
   "cell_type": "markdown",
   "id": "2d0ac489-d498-415a-b56c-a1e2041ff0cf",
   "metadata": {},
   "source": [
    "## Q4. What are some drawbacks of using the Filter method for feature selection?\n"
   ]
  },
  {
   "cell_type": "markdown",
   "id": "5bbb01d0-d0ae-4dc8-b2fe-b4efffa2c4c2",
   "metadata": {},
   "source": [
    "The main DrawBack of using the Filter method for Feature Selection are..We select only the statistically important feature for model training...  \n",
    "Filter method mein feature selection model ke bina ki jati hai, isliye ye machine learning model ke liye hamesha best features nahi chun paata. Iska ek aur drawback ye hai ki ye features ke beech ki interactions ko consider nahi karta, jisse kuch important feature combinations miss ho sakte hain. Agar dataset noisy ho, to irrelevant features bhi select ho sakte hain, jo model ki accuracy ko negatively impact kar sakte hain. Ye method simple aur fast hai, lekin zyada complex problems ke liye optimal nahi hota."
   ]
  },
  {
   "cell_type": "markdown",
   "id": "9dae9c3b-4ede-461d-a3e5-53626433ab3c",
   "metadata": {},
   "source": [
    "## Q5. In which situations would you prefer using the Filter method over the Wrapper method for feature selection?\n"
   ]
  },
  {
   "cell_type": "markdown",
   "id": "c7794110-68c7-4686-b4b6-cc90912ab3b2",
   "metadata": {},
   "source": [
    "Aap Filter method ko tab prefer karenge jab aapke paas bohot bada dataset ho, kyunki ye method fast hota hai aur computationally efficient hai. Jab model training ke pehle quickly irrelevant features ko remove karna ho, Filter method useful hota hai. Isse use tab bhi kiya jata hai jab model aur feature selection ko alag rakhna ho, ya jab aapko simple statistical relationships par focus karna ho. Wrapper method ka use avoid kiya jata hai agar aapke paas limited computational resources hain, kyunki wo slow aur resource-heavy hota hai..."
   ]
  },
  {
   "cell_type": "markdown",
   "id": "97034c82-e28a-4510-94e5-9d0f5f92a5ff",
   "metadata": {},
   "source": [
    "## Q6. In a telecom company, you are working on a project to develop a predictive model for customer churn.You are unsure of which features to include in the model because the dataset contains several different ones. Describe how you would choose the most pertinent attributes for the model using the Filter Method.\n"
   ]
  },
  {
   "cell_type": "markdown",
   "id": "6a113558-f1d6-441c-8f62-6982792c2bd8",
   "metadata": {},
   "source": [
    "Telecom company mein customer churn ke liye predictive model banate waqt, Filter Method ka istemal karne ke liye sabse pehle main har feature aur target variable (customer churn) ke beech ka statistical relationship evaluate karunga. Main correlation coefficients calculate kar sakta hoon ya chi-square tests use kar sakta hoon, jo categorical features ke liye useful hain. Features ko unke relevance scores ke basis par rank karunga, aur top-ranked features ko select karunga. Is process ke zariye main irrelevant ya redundant features ko eliminate kar sakta hoon, taaki model ki accuracy improve ho sake. Aakhir mein, selected features ko model ke liye use karunga aur performance ko assess karunga."
   ]
  },
  {
   "cell_type": "markdown",
   "id": "d56da842-5ffd-4de0-8a7e-b416cae352f0",
   "metadata": {},
   "source": [
    "## Q7. You are working on a project to predict the outcome of a soccer match. You have a large dataset with many features, including player statistics and team rankings. Explain how you would use the Embedded method to select the most relevant features for the model.\n"
   ]
  },
  {
   "cell_type": "markdown",
   "id": "5b82be6a-ded5-4918-a878-959938c1df2c",
   "metadata": {},
   "source": [
    "Soccer match outcome predict karne ke liye Embedded method ka istemal karne ke liye, main pehle ek machine learning model, jaise ki Lasso regression ya Random Forest, train karunga. Lasso regression ke case mein, L1 regularization use karke main un features ko penalize kar sakta hoon jinke coefficients zyada bade hain, jisse kuch features automatically eliminate ho jayenge. Agar main Random Forest use karta hoon, to model training ke dauran feature importance scores generate hote hain, jisse main dekh sakta hoon ki kaunse features outcome par sabse zyada impact dalte hain. In features ko select karne ke baad, main model ki performance ko assess karunga aur ensure karunga ki selected features sahi prediction karne mein madadgar hain. Is approach se main model ko zyada relevant aur efficient bana sakta hoon."
   ]
  },
  {
   "cell_type": "markdown",
   "id": "727e1953-e6d7-4ef6-9fc3-508f2df6142e",
   "metadata": {},
   "source": [
    "## Q8. You are working on a project to predict the price of a house based on its features, such as size, location,and age. You have a limited number of features, and you want to ensure that you select the most important ones for the model. Explain how you would use the Wrapper method to select the best set of features for the predictor."
   ]
  },
  {
   "cell_type": "markdown",
   "id": "5a61a31e-a5b8-4de9-8cec-29e09cc16d49",
   "metadata": {},
   "source": [
    "House price predict karne ke liye Wrapper method ka istemal karne ke liye, main shuruat mein ek base model, jaise ki linear regression, select karunga. Phir, main different feature subsets ke combinations ko test karunga, har baar model ko train karke aur uski performance (jaise RMSE ya R² score) evaluate karunga. Is process mein, main forward selection, backward elimination, ya recursive feature elimination techniques ka istemal kar sakta hoon, jo features ko iteratively add ya remove karte hain. Best-performing feature subset ko choose karne ke liye, main un combinations par focus karunga jo sabse achha prediction accuracy dete hain. Is tarah, Wrapper method se main sabse relevant features identify kar sakta hoon, jo model ki performance ko enhance karte hain."
   ]
  }
 ],
 "metadata": {
  "kernelspec": {
   "display_name": "Python 3 (ipykernel)",
   "language": "python",
   "name": "python3"
  },
  "language_info": {
   "codemirror_mode": {
    "name": "ipython",
    "version": 3
   },
   "file_extension": ".py",
   "mimetype": "text/x-python",
   "name": "python",
   "nbconvert_exporter": "python",
   "pygments_lexer": "ipython3",
   "version": "3.11.7"
  }
 },
 "nbformat": 4,
 "nbformat_minor": 5
}
