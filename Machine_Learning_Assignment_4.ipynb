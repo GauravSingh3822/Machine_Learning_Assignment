{
 "cells": [
  {
   "cell_type": "markdown",
   "id": "681324e8-9225-4070-9b0d-d267e089e597",
   "metadata": {},
   "source": [
    "## Q1. What is Min-Max scaling, and how is it used in data preprocessing? Provide an example to illustrate its application.\n"
   ]
  },
  {
   "cell_type": "markdown",
   "id": "3dd77567-78cc-4e01-8a00-8c4865d1185d",
   "metadata": {},
   "source": [
    "Min-Max scaling ek data normalization technique hai jo kisi bhi dataset ke values ko ek fixed range mein (usually 0 se 1 ke beech) map karta hai. Yeh lower bound (min value) ko 0 aur upper bound (max value) ko 1 banata hai. Iska use tab hota hai jab data ke features alag-alag scale pe hote hain, jisse machine learning models ko training dene mein dikkat ho sakti hai.  \n",
    "Example: Agar tumhare paas kisi feature ki values 10 se 100 ke beech hain, Min-Max scaling usse 0 se 1 ke range mein le aayega.  "
   ]
  },
  {
   "cell_type": "markdown",
   "id": "b17cfd58-803f-4e2c-a6dc-4886edd6b2b2",
   "metadata": {},
   "source": [
    "## Q2. What is the Unit Vector technique in feature scaling, and how does it differ from Min-Max scaling? Provide an example to illustrate its application.\n"
   ]
  },
  {
   "cell_type": "markdown",
   "id": "234e0411-9e6c-4588-9caf-295a5de88eea",
   "metadata": {},
   "source": [
    "Unit Vector technique mein, data ko scale karke ek vector ki length ko 1 banaya jaata hai. Iska matlab hai ki har feature ke values ko uske magnitude se divide kiya jaata hai, taaki data ka direction same rahe, but scale fixed ho jaaye. Yeh Min-Max scaling se alag hai kyunki Min-Max scaling values ko ek specific range mein laata hai (0 se 1), jabki Unit Vector mein scale ko 1 set kiya jaata hai.  \n",
    "Example: Agar tumhare paas ek feature vector [3, 4] hai, toh isse Unit Vector mein scale karne ke baad yeh [0.6, 0.8] ban jaayega (kyunki magnitude 5 hai)  "
   ]
  },
  {
   "cell_type": "markdown",
   "id": "2e3ad506-5956-405d-8814-c026f3fbe527",
   "metadata": {},
   "source": [
    "## Q3. What is PCA (Principle Component Analysis), and how is it used in dimensionality reduction? Provide an example to illustrate its application.\n"
   ]
  },
  {
   "cell_type": "markdown",
   "id": "7c60006c-caa0-43e4-8dda-031c9d5a56e2",
   "metadata": {},
   "source": [
    "PCA (Principal Component Analysis) ek dimensionality reduction technique hai jo zyada features wale dataset ko kam uncorrelated variables (principal components) mein transform karta hai. Yeh data ke maximum variance wale directions ko identify karta hai aur data ko unhi directions mein project karta hai. PCA ka use complexity ko reduce karne ke liye hota hai, bina zyada information lose kiye.  \n",
    "Example: Agar tumhare dataset mein 10 features hain, toh PCA use karke usse 2 ya 3 principal components mein reduce kar sakte ho, jismein data ka maximum information retain rahega.  "
   ]
  },
  {
   "cell_type": "markdown",
   "id": "d3974d51-3e59-4ace-9146-6d3b5b48893d",
   "metadata": {},
   "source": [
    "## Q4. What is the relationship between PCA and Feature Extraction, and how can PCA be used for Feature Extraction? Provide an example to illustrate this concept.\n"
   ]
  },
  {
   "cell_type": "markdown",
   "id": "b80aca1b-5513-4e3a-b7bd-e03fb231886f",
   "metadata": {},
   "source": [
    "PCA aur Feature Extraction ka relation yeh hai ki PCA feature extraction ke through dataset ke important features ko nikalta hai. PCA data ke variance ko analyze karke un new features (principal components) ko banata hai jo original features ka combination hote hain, lekin unme sirf important information hoti hai. Isse dataset ki dimensionality kam hoti hai, bina useful information ko lose kiye.  \n",
    "\n",
    "Example: Agar tumhare dataset mein 10 features hain, PCA unme se 3 principal components extract kar sakta hai jo data ka main variance capture karenge, taaki model training zyada efficient ho jaaye.  \n"
   ]
  },
  {
   "cell_type": "markdown",
   "id": "788949f7-abc3-4ed6-b41c-f6eb06452dc0",
   "metadata": {},
   "source": [
    "## Q5. You are working on a project to build a recommendation system for a food delivery service. The dataset contains features such as price, rating, and delivery time. Explain how you would use Min-Max scaling to preprocess the data.\n"
   ]
  },
  {
   "cell_type": "markdown",
   "id": "c7ecc736-c1d3-4a8d-afc5-50c6170f9d29",
   "metadata": {},
   "source": [
    "Working on a Projext To buld a Recommendation System for a foodDelivery Service..The Dataset contains Features Such As Price,Rating,And Delivery Time..The Min Max ke through hm dataset le value ko ek fixed range me map kar denge..Yeh loweer bound ke liye 0 and Upper Bound ke 1 assign kar denge...\n",
    "Price, rating, aur delivery time sab alag-alag scales par ho sakte hain (jaise price 50 se 1000 tak ho sakta hai, rating 1 se 5, aur delivery time 10 se 60 minutes). Inko same scale pe laane ke liye, main Min-Max scaling ka use karke inhe 0 se 1 ke range mein map karunga. Isse model ko ye samajhna aasaan ho jaayega ki kaunse feature ka kitna impact hai, aur bias avoid hoga jo kisi ek feature ke zyada bada hone se aa sakta hai."
   ]
  },
  {
   "cell_type": "markdown",
   "id": "54011c56-07cf-4ecd-86a0-075f38da0bbe",
   "metadata": {},
   "source": [
    "## Q6. You are working on a project to build a model to predict stock prices. The dataset contains many features, such as company financial data and market trends. Explain how you would use PCA to reduce the dimensionality of the dataset.\n"
   ]
  },
  {
   "cell_type": "markdown",
   "id": "e8754b14-589d-4fad-add5-4a6cf4fd0586",
   "metadata": {},
   "source": [
    "Working on a Project Build a Model to Predict Stock Price.The Dataset contains many Features such as company Finacial data and Market treand..Hm Principal Component ke help se maximum Variance wale direction ko identify kar lenge aur data ko uni direction me project kar dunga..  \n",
    "Pehle, main dataset ko normalize karunga (jaise Min-Max scaling ya z-score normalization) taaki sab features ka scale same ho. Phir main PCA apply karunga, jo dataset ke high-dimensional features mein se un principal components ko identify karega jo maximum variance capture karte hain. In components ko use karke main data ko lower-dimensional space mein project kar sakta hoon, jisse irrelevant ya redundant features ko eliminate kiya ja sake.\n",
    "\n",
    "For example, agar mere dataset mein 100 features hain, PCA apply karne ke baad main unhe 10-20 principal components tak reduce kar sakta hoon, jo model ke liye key information retain karenge aur training time aur complexity dono ko reduce karenge"
   ]
  },
  {
   "cell_type": "markdown",
   "id": "2490ac4a-69ec-4679-936b-ffc0e1e97e9f",
   "metadata": {},
   "source": [
    "## Q7. For a dataset containing the following values: [1, 5, 10, 15, 20], perform Min-Max scaling to transform the values to a range of -1 to 1.\n"
   ]
  },
  {
   "cell_type": "code",
   "execution_count": 9,
   "id": "6b0db68c-fdf0-4800-be9e-672d9d2be970",
   "metadata": {},
   "outputs": [
    {
     "data": {
      "text/plain": [
       "array([[0.        ],\n",
       "       [0.21052632],\n",
       "       [0.47368421],\n",
       "       [0.73684211],\n",
       "       [1.        ]])"
      ]
     },
     "execution_count": 9,
     "metadata": {},
     "output_type": "execute_result"
    }
   ],
   "source": [
    "import pandas as pd \n",
    "df=pd.DataFrame([1,5,10,15,20])\n",
    "from sklearn.preprocessing import MinMaxScaler\n",
    "min_max=MinMaxScaler()\n",
    "min_max.fit(df)\n",
    "min_max.transform(df)\n",
    "min_max.fit_transform(df)"
   ]
  },
  {
   "cell_type": "markdown",
   "id": "9c7a3f48-63fe-4fec-b431-3c86009ca620",
   "metadata": {},
   "source": [
    "## Q8. For a dataset containing the following features: [height, weight, age, gender, blood pressure], perform Feature Extraction using PCA. How many principal components would you choose to retain, and why?"
   ]
  },
  {
   "cell_type": "markdown",
   "id": "e352344d-9d94-4d81-9fda-3dca933257a1",
   "metadata": {},
   "source": [
    "Agar dataset mein features [height, weight, age, gender, blood pressure] hain, aur main PCA apply karke feature extraction kar raha hoon, toh principal components select karne ke liye mujhe un components ka variance check karna padega jo data capture karta hai. Here’s how I’d approach it:\n",
    "1.Encode categorical variable (gender): Since \"gender\" is a categorical variable, we’ll first convert it into numerical form (like 0 for male, 1 for female) because PCA works on numerical data.  \n",
    "2.Standardize the features: Standardization is necessary to bring all features to the same scale before applying PCA.  \n",
    "3.Apply PCA: After preprocessing, I’ll calculate the principal components and check how much variance each component explains (using an explained variance ratio).  \n",
    "4.Choosing components: Generally, I’d choose principal components that explain around 95% of the variance. Since we have 5 features, after applying PCA, the number of components to retain would depend on how much variance each one explains.  "
   ]
  }
 ],
 "metadata": {
  "kernelspec": {
   "display_name": "Python 3 (ipykernel)",
   "language": "python",
   "name": "python3"
  },
  "language_info": {
   "codemirror_mode": {
    "name": "ipython",
    "version": 3
   },
   "file_extension": ".py",
   "mimetype": "text/x-python",
   "name": "python",
   "nbconvert_exporter": "python",
   "pygments_lexer": "ipython3",
   "version": "3.11.7"
  }
 },
 "nbformat": 4,
 "nbformat_minor": 5
}
