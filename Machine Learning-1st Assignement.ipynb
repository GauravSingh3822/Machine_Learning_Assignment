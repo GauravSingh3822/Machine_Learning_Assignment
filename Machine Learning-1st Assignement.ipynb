{
 "cells": [
  {
   "cell_type": "markdown",
   "id": "5508ef8d-e54e-4b94-aab0-3fa7be6ee9f6",
   "metadata": {},
   "source": [
    "## Q1: Explain the following with an example:1.Artificial Intelligenc 2.Machine Learnin,3Deep Learning\n"
   ]
  },
  {
   "cell_type": "markdown",
   "id": "8b292d29-1d2b-4149-893b-da5e9d746ee1",
   "metadata": {},
   "source": [
    "Artifical Intelligence--Artifical Intelligence is a smart Application that can perform its own task without any Human intervation..  \n",
    "eg:Robat,Alexa  \n",
    "\n",
    "Machine Learning-Machine learning provide statistical tool to analyze,Visualize and predictinn model and also provide random forecasting...  \n",
    "eg:Amazon.in,Netflix ----Recommendation System  \n",
    "\n",
    "Deep Learnin--Deep learning mimic the human brain...It based on Human Neural Network...  \n",
    "eg:Chatbots,Object Detection  "
   ]
  },
  {
   "cell_type": "markdown",
   "id": "e8181404-8d95-4b04-b415-73daf3fbc8a2",
   "metadata": {},
   "source": [
    "## Q2: What is supervised learning? List some examples of supervised learning.\n",
    "Supervised Machine learning is type of machine Learning in which which trained our model using labelled dataset..Two type Supervosed Machine Learning \n",
    "1.Classisfication   \n",
    "2.Regression  \n",
    "example:1 Email Spam Detection    \n",
    "2.House Price Prediction  \n"
   ]
  },
  {
   "cell_type": "markdown",
   "id": "cd79b349-6d37-4442-b559-8b910618bec2",
   "metadata": {},
   "source": [
    "## Q3: What is unsupervised learning? List some examples of unsupervised learning.\n",
    "Unsupervised learning is type of machine learning in which we not trained the machine by labelled dataset..Machine itself try to learn the data...In unsupervised machine learning we try to make cluster mean make group and target that particular group....Example-Custmoer Segementation...  "
   ]
  },
  {
   "cell_type": "markdown",
   "id": "55c3906c-15b9-4ac1-94c8-dca1a7698841",
   "metadata": {},
   "source": [
    "## Q4: What is the difference between AI, ML, DL, and DS?\n",
    "AI=Artifiacl Intelligence is superset of ML,DL,DS....AI is a smart application that can perform its own task without any human Intervation...  \n",
    "ML=Machine Learning is subset of Artifical Intelligence in which we trained the model by labelled aur unlabelled dataset..It provide statistical tool to analyze,Predict,and visuallized the data... \n",
    "DL=Deep learning is a subset of MAchine learning ..Deep learning miminc the human Brain...Deep learning based on the Human Neural Network\n",
    "DS=Data Science  focuses on extracting insights from data using various techniques, including AI, ML, and statistical methods, to drive decision-making..  "
   ]
  },
  {
   "cell_type": "markdown",
   "id": "f9304ab1-423e-43c5-8959-44aa0b42d136",
   "metadata": {},
   "source": [
    "## Q5: What are the main differences between supervised, unsupervised, and semi-supervised learning?\n",
    "Supervised Machine Learning---Supervised machine learning is type of machine learning in which we train the model with labelled data....  \n",
    "Unsupervise Machine Learning---Unsupervised Machine learning is type of Machine learning in which we trained the model with unlablled date..In unsupervise machine learning we try to make clustr mean we try to make the group for target...  \n",
    "Semi-supervised Machine Learning--Semi-supervised learning uses a small amount of labeled data and a large amount of unlabeled data to improve the learning process...  "
   ]
  },
  {
   "cell_type": "markdown",
   "id": "bf111221-bec8-42c2-90b9-04dbf4ff9bbc",
   "metadata": {},
   "source": [
    "## Q6: What is train, test and validation split? Explain the importance of each term.\n",
    "Train split-Train split mean we spit the dateset for tarin our model.....  \n",
    "Validation Split-Validation split means we split the data for hyper tunning of the model mean maximize the performane or accuracy.....  \n",
    "Test Split-Test Split means we split the dataset for test the our model....  "
   ]
  },
  {
   "cell_type": "markdown",
   "id": "49ec606e-2782-4723-b510-04c726e219d8",
   "metadata": {},
   "source": [
    "## Q7: How can unsupervised learning be used in anomaly detection?\n",
    "In unsupervised learning, anomaly detection is done by identifying patterns or clusters in the data and flagging data points that don't fit well with those patterns. Since the model doesn't have labeled examples of \"normal\" or \"anomalous\" data, it detects outliers by finding points that deviate significantly from the majority. For example, in network security, unsupervised learning can detect unusual behavior that might indicate a potential threat or attack.\n"
   ]
  },
  {
   "cell_type": "markdown",
   "id": "479e636c-d2c6-4e58-af2d-b4a076a1be92",
   "metadata": {},
   "source": [
    "## Q8: List down some commonly used supervised learning algorithms and unsupervised learning algorithms.\n",
    "Commonly Used Supervised Learning Algorithms:  \n",
    "Linear Regression (for regression tasks)  \n",
    "Logistic Regression (for binary classification)  \n",
    "Decision Trees  \n",
    "Support Vector Machines (SVM)  \n",
    "k-Nearest Neighbors (k-NN)  \n",
    "Random Forest  \n",
    "Gradient Boosting Machines (GBM)  \n",
    "Neural Networks  \n",
    "\n",
    "Commonly Used Unsupervised Learning Algorithms:\n",
    "K-Means Clustering  \n",
    "Hierarchical Clustering  \n",
    "DBSCAN (Density-Based Spatial Clustering)  \n",
    "Principal Component Analysis (PCA)  \n",
    "Apriori Algorithm (for association rule mining)  "
   ]
  },
  {
   "cell_type": "code",
   "execution_count": null,
   "id": "47d97924-ded6-4e5d-be96-480db9986016",
   "metadata": {},
   "outputs": [],
   "source": []
  }
 ],
 "metadata": {
  "kernelspec": {
   "display_name": "Python 3 (ipykernel)",
   "language": "python",
   "name": "python3"
  },
  "language_info": {
   "codemirror_mode": {
    "name": "ipython",
    "version": 3
   },
   "file_extension": ".py",
   "mimetype": "text/x-python",
   "name": "python",
   "nbconvert_exporter": "python",
   "pygments_lexer": "ipython3",
   "version": "3.11.7"
  }
 },
 "nbformat": 4,
 "nbformat_minor": 5
}
